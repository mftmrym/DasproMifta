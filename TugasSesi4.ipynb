{
 "cells": [
  {
   "cell_type": "markdown",
   "id": "ac0adcbb-5613-4e0b-aa2e-1adbdd7a3d31",
   "metadata": {},
   "source": [
    "<h3>1. Operator Aritmatika:</h3>"
   ]
  },
  {
   "cell_type": "code",
   "execution_count": 12,
   "id": "96b26164-d993-47f8-a2f2-4e983c98692a",
   "metadata": {},
   "outputs": [
    {
     "name": "stdout",
     "output_type": "stream",
     "text": [
      "Apel yang diterima oleh teman-teman budi adalah: 3.0\n",
      "Budi mendapatkan 8 apel tambahan jadi apel budi adalah: 20\n",
      "Jika total apel Budi akan dibagikan kepada teman-temannya secara merata, maka teman Budi akan menerima apel sebanyak: 5.0\n"
     ]
    }
   ],
   "source": [
    "apelBudi = 12\n",
    "temanBudi = 4\n",
    "tambahanApel = 8\n",
    "TotBudi = apelBudi + tambahanApel\n",
    "print(\"Apel yang diterima oleh teman-teman budi adalah:\",apelBudi / temanBudi)\n",
    "print(\"Budi mendapatkan 8 apel tambahan jadi apel budi adalah:\",TotBudi)\n",
    "print(\"Jika total apel Budi akan dibagikan kepada teman-temannya secara merata, maka teman Budi akan menerima apel sebanyak:\",TotBudi / temanBudi)"
   ]
  },
  {
   "cell_type": "markdown",
   "id": "ee077fe4-6fcc-41a0-8fa8-6ab974a93972",
   "metadata": {},
   "source": [
    "<h3>2. Operator Perbandingan</h3>"
   ]
  },
  {
   "cell_type": "code",
   "execution_count": 19,
   "id": "f9ee0d59-d36a-498d-8bc0-34d4b5062a49",
   "metadata": {},
   "outputs": [
    {
     "name": "stdout",
     "output_type": "stream",
     "text": [
      "Apakah tinggi Siti 160 > dari Andi 165 ? False\n",
      "Apakah tinggi Siti 160 < dari Andi 165 ? True\n",
      "Apakah tinggi Siti 160 >= dari Andi 165 ? False\n",
      "Apakah tinggi Siti 160 <= dari Andi 165 ? True\n",
      "Apakah tinggi Siti 160 == dari Andi 165 ? False\n",
      "Apakah tinggi Siti 160 != dari Andi 165 ? True\n",
      "Jadi yang lebih tinggi dari mereka berdua adalah Andi dengan tinggi: 165\n"
     ]
    }
   ],
   "source": [
    "ts = 160\n",
    "ta = 165\n",
    "print(\"Apakah tinggi Siti\",ts,\"> dari Andi\",ta,\"?\",ts>ta)\n",
    "print(\"Apakah tinggi Siti\",ts,\"< dari Andi\",ta,\"?\",ts<ta)\n",
    "print(\"Apakah tinggi Siti\",ts,\">= dari Andi\",ta,\"?\",ts>=ta)\n",
    "print(\"Apakah tinggi Siti\",ts,\"<= dari Andi\",ta,\"?\",ts<=ta)\n",
    "print(\"Apakah tinggi Siti\",ts,\"== dari Andi\",ta,\"?\",ts==ta)\n",
    "print(\"Apakah tinggi Siti\",ts,\"!= dari Andi\",ta,\"?\",ts!=ta)\n",
    "\n",
    "print(\"Jadi yang lebih tinggi dari mereka berdua adalah Andi dengan tinggi:\",ta)"
   ]
  },
  {
   "cell_type": "markdown",
   "id": "263f7a62-118e-4c87-8ed4-3beaf5e465c7",
   "metadata": {},
   "source": [
    "<h3>3. Operator Logika</h3>"
   ]
  },
  {
   "cell_type": "code",
   "execution_count": 89,
   "id": "cb2d970d-ee9d-4aa4-a055-c1f7da0780c6",
   "metadata": {},
   "outputs": [
    {
     "name": "stdout",
     "output_type": "stream",
     "text": [
      "Budi bisa bermain di luar? True\n"
     ]
    }
   ],
   "source": [
    "cuaca_cerah = True \n",
    "pr_selesai = True\n",
    "bisa_bermain = cuaca_cerah and pr_selesai\n",
    "print(\"Budi bisa bermain di luar?\",bisa_bermain)"
   ]
  },
  {
   "cell_type": "markdown",
   "id": "7c23c320-5466-4ee5-bdaa-2e5db65c8690",
   "metadata": {},
   "source": [
    "<h3>4. Operator Bitwise</h3>"
   ]
  },
  {
   "cell_type": "code",
   "execution_count": 36,
   "id": "48cb6b24-9356-4ee8-966d-d1d15ef9379e",
   "metadata": {},
   "outputs": [
    {
     "name": "stdout",
     "output_type": "stream",
     "text": [
      "Hasil AND: 2 | biner = 0b10\n",
      "Hasil OR: 7 | biner = 0b111\n",
      "Hasil XOR: 5 | biner = 0b101\n"
     ]
    }
   ],
   "source": [
    "num1 = 6\n",
    "num2 = 3\n",
    "hasilAnd = num1 & num2 \n",
    "hasilOr = num1 | num2\n",
    "hasilXor = num1 ^ num2\n",
    "\n",
    "print(\"Hasil AND:\",hasilAnd,\"| biner =\",bin(hasilAnd))\n",
    "print(\"Hasil OR:\",hasilOr,\"| biner =\",bin(hasilOr))\n",
    "print(\"Hasil XOR:\",hasilXor,\"| biner =\",bin(hasilXor))"
   ]
  },
  {
   "cell_type": "markdown",
   "id": "8cba811e-5251-432f-b7e9-7b2aa1bbc8a4",
   "metadata": {},
   "source": [
    "<h3>5. Operator Penugasan</h3>"
   ]
  },
  {
   "cell_type": "code",
   "execution_count": 42,
   "id": "9bdfe075-864a-4c45-af7d-6253476704e2",
   "metadata": {},
   "outputs": [
    {
     "name": "stdout",
     "output_type": "stream",
     "text": [
      "Jadi sisa saldo pulsa siswa = 40000\n"
     ]
    }
   ],
   "source": [
    "saldoPulsa = 50000\n",
    "saldoPulsa+= 20000\n",
    "saldoPulsa-= 30000\n",
    "\n",
    "print(\"Jadi sisa saldo pulsa siswa =\",saldoPulsa)"
   ]
  },
  {
   "cell_type": "markdown",
   "id": "1b95ddde-495e-4b38-bae8-b49c9fa87263",
   "metadata": {},
   "source": [
    "<h3>6. Operator Keanggotaan</h3>"
   ]
  },
  {
   "cell_type": "code",
   "execution_count": 51,
   "id": "330d02c2-0911-4080-a0b4-69495cf42dff",
   "metadata": {},
   "outputs": [
    {
     "name": "stdin",
     "output_type": "stream",
     "text": [
      "Nama peserta : Eka\n"
     ]
    },
    {
     "name": "stdout",
     "output_type": "stream",
     "text": [
      "Apakah nama Eka ada dalam daftar peserta : ['Andi', 'Budi', 'Citra', 'Dewi'] ? False\n"
     ]
    },
    {
     "name": "stdin",
     "output_type": "stream",
     "text": [
      "Nama kata = Python\n"
     ]
    },
    {
     "name": "stdout",
     "output_type": "stream",
     "text": [
      "Apakah kata Python ada dalam kalimat ['Saya', 'suka', 'belajar', 'Python'] ? True\n"
     ]
    }
   ],
   "source": [
    "daftarPeserta = [\"Andi\", \"Budi\", \"Citra\", \"Dewi\"]\n",
    "findPeserta = input(\"Nama peserta :\")\n",
    "print(\"Apakah nama\",findPeserta,\"ada dalam daftar peserta :\",daftarPeserta,\"?\",findPeserta in daftarPeserta)\n",
    "\n",
    "kalimat = [\"Saya\", \"suka\", \"belajar\", \"Python\"]\n",
    "findKata = input(\"Nama kata =\")\n",
    "print(\"Apakah kata\",findKata,\"ada dalam kalimat\",kalimat,\"?\",findKata in kalimat)"
   ]
  },
  {
   "cell_type": "markdown",
   "id": "88ed2199-acfb-462e-93ac-1adf153bf326",
   "metadata": {},
   "source": [
    "<h3>7. Operator Identitas</h3>"
   ]
  },
  {
   "cell_type": "code",
   "execution_count": 58,
   "id": "a93837db-64af-4739-927e-e2a9b35853a2",
   "metadata": {},
   "outputs": [
    {
     "name": "stdout",
     "output_type": "stream",
     "text": [
      "Apakah x dan y merujuk ke objek yang sama? True\n",
      "Apakah list1 dan list2 merujuk ke objek yang sama? False\n"
     ]
    }
   ],
   "source": [
    "x = 10\n",
    "y = 10\n",
    "print(\"Apakah x dan y merujuk ke objek yang sama?\", x is y)\n",
    "list1 = [1, 2, 3]\n",
    "list2 = [1, 2, 3]\n",
    "print(\"Apakah list1 dan list2 merujuk ke objek yang sama?\",list1 is list2)"
   ]
  },
  {
   "cell_type": "markdown",
   "id": "793e0bfb-c65e-49ce-9cc3-0420e806996a",
   "metadata": {},
   "source": [
    "<h3>8. Operator Ternary</h3>"
   ]
  },
  {
   "cell_type": "code",
   "execution_count": 87,
   "id": "921e293e-b9dc-4b1c-9276-691db469fa95",
   "metadata": {},
   "outputs": [
    {
     "name": "stdin",
     "output_type": "stream",
     "text": [
      "Masukan angka = 900\n"
     ]
    },
    {
     "name": "stdout",
     "output_type": "stream",
     "text": [
      "Angka 900 Lebih besar dari 100\n"
     ]
    },
    {
     "name": "stdin",
     "output_type": "stream",
     "text": [
      "Masukan nilai anda = 60\n"
     ]
    },
    {
     "name": "stdout",
     "output_type": "stream",
     "text": [
      "Anda Tidak Lulus Dengan nilai 60\n"
     ]
    }
   ],
   "source": [
    "angka = int(input(\"Masukan angka =\"))\n",
    "hasil = \"Lebih besar dari 100\" if angka > 100 else \"sama atau kurang dari 100\"\n",
    "print(\"Angka\",angka, hasil)\n",
    "\n",
    "\n",
    "nilaiUjian = int(input(\"Masukan nilai anda =\"))\n",
    "statusNilai = \"Lulus\" if nilaiUjian > 70 else \"Tidak Lulus\"\n",
    "print(\"Anda\",statusNilai,\"Dengan nilai\",nilaiUjian)"
   ]
  },
  {
   "cell_type": "code",
   "execution_count": null,
   "id": "af6fc33f-ba5a-4f39-8f7e-6cd286db4129",
   "metadata": {},
   "outputs": [],
   "source": []
  }
 ],
 "metadata": {
  "kernelspec": {
   "display_name": "Python [conda env:base] *",
   "language": "python",
   "name": "conda-base-py"
  },
  "language_info": {
   "codemirror_mode": {
    "name": "ipython",
    "version": 3
   },
   "file_extension": ".py",
   "mimetype": "text/x-python",
   "name": "python",
   "nbconvert_exporter": "python",
   "pygments_lexer": "ipython3",
   "version": "3.12.7"
  }
 },
 "nbformat": 4,
 "nbformat_minor": 5
}
